{
 "cells": [
  {
   "cell_type": "code",
   "execution_count": 1,
   "metadata": {},
   "outputs": [],
   "source": [
    "import torch\n",
    "import numpy as np\n",
    "from torch.utils.data import TensorDataset, DataLoader\n",
    "\n",
    "import build_model\n",
    "import sample\n",
    "import visualization\n",
    "import benchmark"
   ]
  },
  {
   "cell_type": "code",
   "execution_count": 10,
   "metadata": {},
   "outputs": [],
   "source": [
    "model_he = build_model.make_1d_model(build_model.init_he_normal)\n",
    "optimizer_he = torch.optim.Adam(model_he.parameters(), lr=0.001)\n",
    "\n",
    "model_rai = build_model.make_1d_model(build_model.init_rai)\n",
    "optimizer_rai = torch.optim.Adam(model_rai.parameters(), lr=0.001)\n",
    "\n",
    "true_fn = sample.f1\n",
    "n_epochs = 100\n",
    "model_path = './output/model.obj'\n",
    "x_range = (-np.sqrt(3), np.sqrt(3))"
   ]
  },
  {
   "cell_type": "code",
   "execution_count": 13,
   "metadata": {},
   "outputs": [
    {
     "name": "stdout",
     "output_type": "stream",
     "text": [
      "Finished Training\n"
     ]
    }
   ],
   "source": [
    "model_rai = train(model_rai, true_fn, n_epochs, optimizer_rai)\n",
    "model_he = train(model_he, true_fn, n_epochs, optimizer_he)\n",
    "\n",
    "print(\"Finished Training\")"
   ]
  },
  {
   "cell_type": "code",
   "execution_count": 15,
   "metadata": {},
   "outputs": [
    {
     "data": {
      "text/plain": [
       "True"
      ]
     },
     "execution_count": 15,
     "metadata": {},
     "output_type": "execute_result"
    }
   ],
   "source": [
    "check_dead(model_he, x_range, 10)"
   ]
  }
 ],
 "metadata": {
  "kernelspec": {
   "display_name": "rai",
   "language": "python",
   "name": "python3"
  },
  "language_info": {
   "codemirror_mode": {
    "name": "ipython",
    "version": 3
   },
   "file_extension": ".py",
   "mimetype": "text/x-python",
   "name": "python",
   "nbconvert_exporter": "python",
   "pygments_lexer": "ipython3",
   "version": "3.8.12"
  },
  "orig_nbformat": 4
 },
 "nbformat": 4,
 "nbformat_minor": 2
}
